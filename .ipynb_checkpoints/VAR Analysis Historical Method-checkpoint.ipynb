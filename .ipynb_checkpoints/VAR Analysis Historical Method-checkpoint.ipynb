{
 "cells": [
  {
   "cell_type": "markdown",
   "id": "09c7e811-bcc2-47df-9674-4d57f393f82b",
   "metadata": {},
   "source": [
    "# VaR Analysis Historical Method"
   ]
  },
  {
   "cell_type": "markdown",
   "id": "76e10e8e-53cd-4a18-ab34-df4b3ba88f70",
   "metadata": {},
   "source": [
    "This is a Value at Risk analysis Historical Data Method to determine the possible amount of money you could lose if you invest in the companies below"
   ]
  },
  {
   "cell_type": "code",
   "execution_count": 11,
   "id": "e0893845-3ac2-4834-a227-83ba1303b18b",
   "metadata": {},
   "outputs": [],
   "source": [
    "# importing necessary libraries\n",
    "\n",
    "import numpy as np\n",
    "import pandas as pd\n",
    "import datetime as dt\n",
    "import matplotlib.pyplot as plt\n",
    "from scipy.stats import norm"
   ]
  },
  {
   "cell_type": "markdown",
   "id": "1e2d4e18-04a3-42d3-a3e4-4c76913d5705",
   "metadata": {},
   "source": [
    "## We will be using GSMI, EMI, and FB as example"
   ]
  },
  {
   "cell_type": "code",
   "execution_count": 14,
   "id": "2a7d6244-315f-4782-9980-c21b3c17d1a0",
   "metadata": {},
   "outputs": [
    {
     "data": {
      "text/html": [
       "<div>\n",
       "<style scoped>\n",
       "    .dataframe tbody tr th:only-of-type {\n",
       "        vertical-align: middle;\n",
       "    }\n",
       "\n",
       "    .dataframe tbody tr th {\n",
       "        vertical-align: top;\n",
       "    }\n",
       "\n",
       "    .dataframe thead th {\n",
       "        text-align: right;\n",
       "    }\n",
       "</style>\n",
       "<table border=\"1\" class=\"dataframe\">\n",
       "  <thead>\n",
       "    <tr style=\"text-align: right;\">\n",
       "      <th></th>\n",
       "      <th>BDO</th>\n",
       "      <th>EW</th>\n",
       "      <th>MBT</th>\n",
       "      <th>PNB</th>\n",
       "      <th>SECB</th>\n",
       "      <th>UBP</th>\n",
       "    </tr>\n",
       "    <tr>\n",
       "      <th>Date</th>\n",
       "      <th></th>\n",
       "      <th></th>\n",
       "      <th></th>\n",
       "      <th></th>\n",
       "      <th></th>\n",
       "      <th></th>\n",
       "    </tr>\n",
       "  </thead>\n",
       "  <tbody>\n",
       "    <tr>\n",
       "      <th>43742</th>\n",
       "      <td>143.5</td>\n",
       "      <td>11.82</td>\n",
       "      <td>68.0</td>\n",
       "      <td>43.50</td>\n",
       "      <td>197.9</td>\n",
       "      <td>59.05</td>\n",
       "    </tr>\n",
       "    <tr>\n",
       "      <th>43745</th>\n",
       "      <td>140.0</td>\n",
       "      <td>11.70</td>\n",
       "      <td>68.0</td>\n",
       "      <td>44.00</td>\n",
       "      <td>197.0</td>\n",
       "      <td>59.10</td>\n",
       "    </tr>\n",
       "    <tr>\n",
       "      <th>43746</th>\n",
       "      <td>143.0</td>\n",
       "      <td>11.72</td>\n",
       "      <td>67.3</td>\n",
       "      <td>43.05</td>\n",
       "      <td>194.6</td>\n",
       "      <td>59.05</td>\n",
       "    </tr>\n",
       "    <tr>\n",
       "      <th>43747</th>\n",
       "      <td>143.4</td>\n",
       "      <td>11.62</td>\n",
       "      <td>66.0</td>\n",
       "      <td>42.95</td>\n",
       "      <td>191.0</td>\n",
       "      <td>59.00</td>\n",
       "    </tr>\n",
       "    <tr>\n",
       "      <th>43748</th>\n",
       "      <td>145.0</td>\n",
       "      <td>11.78</td>\n",
       "      <td>67.8</td>\n",
       "      <td>43.50</td>\n",
       "      <td>199.0</td>\n",
       "      <td>59.00</td>\n",
       "    </tr>\n",
       "  </tbody>\n",
       "</table>\n",
       "</div>"
      ],
      "text/plain": [
       "         BDO     EW   MBT    PNB   SECB    UBP\n",
       "Date                                          \n",
       "43742  143.5  11.82  68.0  43.50  197.9  59.05\n",
       "43745  140.0  11.70  68.0  44.00  197.0  59.10\n",
       "43746  143.0  11.72  67.3  43.05  194.6  59.05\n",
       "43747  143.4  11.62  66.0  42.95  191.0  59.00\n",
       "43748  145.0  11.78  67.8  43.50  199.0  59.00"
      ]
     },
     "execution_count": 14,
     "metadata": {},
     "output_type": "execute_result"
    }
   ],
   "source": [
    "# Importing excel file\n",
    "df = pd.read_excel(\"PH stocks.xlsx\", index_col=False)\n",
    "df = df.set_index(\"Date\")\n",
    "df = df.dropna()\n",
    "df.head()"
   ]
  },
  {
   "cell_type": "code",
   "execution_count": 16,
   "id": "3e2ce05e-5ba7-48de-81fd-405b3fb0f865",
   "metadata": {
    "scrolled": true
   },
   "outputs": [
    {
     "data": {
      "text/html": [
       "<div>\n",
       "<style scoped>\n",
       "    .dataframe tbody tr th:only-of-type {\n",
       "        vertical-align: middle;\n",
       "    }\n",
       "\n",
       "    .dataframe tbody tr th {\n",
       "        vertical-align: top;\n",
       "    }\n",
       "\n",
       "    .dataframe thead th {\n",
       "        text-align: right;\n",
       "    }\n",
       "</style>\n",
       "<table border=\"1\" class=\"dataframe\">\n",
       "  <thead>\n",
       "    <tr style=\"text-align: right;\">\n",
       "      <th></th>\n",
       "      <th>BDO</th>\n",
       "      <th>EW</th>\n",
       "      <th>MBT</th>\n",
       "      <th>PNB</th>\n",
       "      <th>SECB</th>\n",
       "      <th>UBP</th>\n",
       "    </tr>\n",
       "    <tr>\n",
       "      <th>Date</th>\n",
       "      <th></th>\n",
       "      <th></th>\n",
       "      <th></th>\n",
       "      <th></th>\n",
       "      <th></th>\n",
       "      <th></th>\n",
       "    </tr>\n",
       "  </thead>\n",
       "  <tbody>\n",
       "    <tr>\n",
       "      <th>43745</th>\n",
       "      <td>-0.024693</td>\n",
       "      <td>-0.010204</td>\n",
       "      <td>0.000000</td>\n",
       "      <td>0.011429</td>\n",
       "      <td>-0.004558</td>\n",
       "      <td>0.000846</td>\n",
       "    </tr>\n",
       "    <tr>\n",
       "      <th>43746</th>\n",
       "      <td>0.021202</td>\n",
       "      <td>0.001708</td>\n",
       "      <td>-0.010347</td>\n",
       "      <td>-0.021827</td>\n",
       "      <td>-0.012258</td>\n",
       "      <td>-0.000846</td>\n",
       "    </tr>\n",
       "    <tr>\n",
       "      <th>43747</th>\n",
       "      <td>0.002793</td>\n",
       "      <td>-0.008569</td>\n",
       "      <td>-0.019505</td>\n",
       "      <td>-0.002326</td>\n",
       "      <td>-0.018673</td>\n",
       "      <td>-0.000847</td>\n",
       "    </tr>\n",
       "    <tr>\n",
       "      <th>43748</th>\n",
       "      <td>0.011096</td>\n",
       "      <td>0.013675</td>\n",
       "      <td>0.026907</td>\n",
       "      <td>0.012724</td>\n",
       "      <td>0.041031</td>\n",
       "      <td>0.000000</td>\n",
       "    </tr>\n",
       "    <tr>\n",
       "      <th>43749</th>\n",
       "      <td>0.013699</td>\n",
       "      <td>0.021831</td>\n",
       "      <td>0.002946</td>\n",
       "      <td>-0.015055</td>\n",
       "      <td>-0.005038</td>\n",
       "      <td>0.000000</td>\n",
       "    </tr>\n",
       "    <tr>\n",
       "      <th>...</th>\n",
       "      <td>...</td>\n",
       "      <td>...</td>\n",
       "      <td>...</td>\n",
       "      <td>...</td>\n",
       "      <td>...</td>\n",
       "      <td>...</td>\n",
       "    </tr>\n",
       "    <tr>\n",
       "      <th>45562</th>\n",
       "      <td>-0.034707</td>\n",
       "      <td>-0.003101</td>\n",
       "      <td>-0.011653</td>\n",
       "      <td>0.016290</td>\n",
       "      <td>0.000519</td>\n",
       "      <td>-0.006557</td>\n",
       "    </tr>\n",
       "    <tr>\n",
       "      <th>45565</th>\n",
       "      <td>-0.021291</td>\n",
       "      <td>0.010299</td>\n",
       "      <td>-0.030695</td>\n",
       "      <td>0.005372</td>\n",
       "      <td>-0.004160</td>\n",
       "      <td>0.011773</td>\n",
       "    </tr>\n",
       "    <tr>\n",
       "      <th>45566</th>\n",
       "      <td>-0.004440</td>\n",
       "      <td>0.008163</td>\n",
       "      <td>0.020775</td>\n",
       "      <td>-0.003578</td>\n",
       "      <td>0.010884</td>\n",
       "      <td>0.015484</td>\n",
       "    </tr>\n",
       "    <tr>\n",
       "      <th>45567</th>\n",
       "      <td>0.022007</td>\n",
       "      <td>-0.002035</td>\n",
       "      <td>-0.003120</td>\n",
       "      <td>-0.005391</td>\n",
       "      <td>0.000515</td>\n",
       "      <td>0.006382</td>\n",
       "    </tr>\n",
       "    <tr>\n",
       "      <th>45568</th>\n",
       "      <td>-0.024553</td>\n",
       "      <td>-0.007154</td>\n",
       "      <td>0.012423</td>\n",
       "      <td>-0.009050</td>\n",
       "      <td>0.019388</td>\n",
       "      <td>-0.002548</td>\n",
       "    </tr>\n",
       "  </tbody>\n",
       "</table>\n",
       "<p>1222 rows × 6 columns</p>\n",
       "</div>"
      ],
      "text/plain": [
       "            BDO        EW       MBT       PNB      SECB       UBP\n",
       "Date                                                             \n",
       "43745 -0.024693 -0.010204  0.000000  0.011429 -0.004558  0.000846\n",
       "43746  0.021202  0.001708 -0.010347 -0.021827 -0.012258 -0.000846\n",
       "43747  0.002793 -0.008569 -0.019505 -0.002326 -0.018673 -0.000847\n",
       "43748  0.011096  0.013675  0.026907  0.012724  0.041031  0.000000\n",
       "43749  0.013699  0.021831  0.002946 -0.015055 -0.005038  0.000000\n",
       "...         ...       ...       ...       ...       ...       ...\n",
       "45562 -0.034707 -0.003101 -0.011653  0.016290  0.000519 -0.006557\n",
       "45565 -0.021291  0.010299 -0.030695  0.005372 -0.004160  0.011773\n",
       "45566 -0.004440  0.008163  0.020775 -0.003578  0.010884  0.015484\n",
       "45567  0.022007 -0.002035 -0.003120 -0.005391  0.000515  0.006382\n",
       "45568 -0.024553 -0.007154  0.012423 -0.009050  0.019388 -0.002548\n",
       "\n",
       "[1222 rows x 6 columns]"
      ]
     },
     "execution_count": 16,
     "metadata": {},
     "output_type": "execute_result"
    }
   ],
   "source": [
    "# Calculating log returns\n",
    "\n",
    "log_returns = np.log(df/df.shift(1))\n",
    "log_returns = log_returns.dropna()\n",
    "log_returns"
   ]
  },
  {
   "cell_type": "code",
   "execution_count": 18,
   "id": "fc92bb85-ddfc-40bc-9948-86b2df532e98",
   "metadata": {},
   "outputs": [
    {
     "data": {
      "text/plain": [
       "array([0.16666667, 0.16666667, 0.16666667, 0.16666667, 0.16666667,\n",
       "       0.16666667])"
      ]
     },
     "execution_count": 18,
     "metadata": {},
     "output_type": "execute_result"
    }
   ],
   "source": [
    "# Creating an equally weighted portfolio\n",
    "\n",
    "stocks = df.columns\n",
    "stocks = list(stocks)\n",
    "\n",
    "portfolio_value = 1000000\n",
    "weights = np.array([1/len(stocks)]*len(stocks))\n",
    "weights"
   ]
  },
  {
   "cell_type": "code",
   "execution_count": 20,
   "id": "c61be085-9f60-4040-822d-ddba0e2ea702",
   "metadata": {},
   "outputs": [
    {
     "data": {
      "text/plain": [
       "Date\n",
       "43745   -0.004530\n",
       "43746   -0.003728\n",
       "43747   -0.007854\n",
       "43748    0.017572\n",
       "43749    0.003064\n",
       "           ...   \n",
       "45562   -0.006535\n",
       "45565   -0.004784\n",
       "45566    0.007881\n",
       "45567    0.003060\n",
       "45568   -0.001916\n",
       "Length: 1222, dtype: float64"
      ]
     },
     "execution_count": 20,
     "metadata": {},
     "output_type": "execute_result"
    }
   ],
   "source": [
    "# Calculating the historical portfolio returns\n",
    "\n",
    "hreturns = (log_returns * weights).sum(axis = 1)\n",
    "hreturns"
   ]
  },
  {
   "cell_type": "code",
   "execution_count": 22,
   "id": "5b89c405-d8b4-4e23-9e67-66e24f1d9565",
   "metadata": {},
   "outputs": [
    {
     "data": {
      "text/plain": [
       "Date\n",
       "45562    0.046301\n",
       "45565   -0.011063\n",
       "45566   -0.008262\n",
       "45567    0.010403\n",
       "45568   -0.002293\n",
       "dtype: float64"
      ]
     },
     "execution_count": 22,
     "metadata": {},
     "output_type": "execute_result"
    }
   ],
   "source": [
    "# X days historical portfolio returns\n",
    "\n",
    "days = 5\n",
    "xdays = hreturns.rolling(window=days).sum()\n",
    "xdays = xdays.dropna()\n",
    "\n",
    "xdays.tail()"
   ]
  },
  {
   "cell_type": "code",
   "execution_count": 24,
   "id": "615718b6-802c-41f6-8c6a-76e33c5dfb4f",
   "metadata": {},
   "outputs": [
    {
     "data": {
      "text/plain": [
       "43084.73777990441"
      ]
     },
     "execution_count": 24,
     "metadata": {},
     "output_type": "execute_result"
    }
   ],
   "source": [
    "# Calculating VAR\n",
    "\n",
    "confidence_interval = 0.95\n",
    "\n",
    "VaR = -np.percentile(xdays, 100 - (confidence_interval * 100)) * portfolio_value\n",
    "\n",
    "VaR"
   ]
  },
  {
   "cell_type": "code",
   "execution_count": 26,
   "id": "bfabc08a-64a3-43a6-bab1-00379cfaf3eb",
   "metadata": {},
   "outputs": [
    {
     "data": {
      "image/png": "[encoded data removed]",
      "text/plain": [
       "<Figure size 640x480 with 1 Axes>"
      ]
     },
     "metadata": {},
     "output_type": "display_data"
    }
   ],
   "source": [
    "# Plotting \n",
    "\n",
    "hreturns_dollar = hreturns * portfolio_value\n",
    "\n",
    "plt.hist(hreturns_dollar, bins=50, density= True)\n",
    "plt.xlabel(f'{days}-Day Portfolio Return (Dollar Value)')\n",
    "plt.ylabel('Frequency')\n",
    "plt.title(f\"Distribution of Portfolio {days}-Day Returns (Dollar Value)\")\n",
    "plt.axvline(-VaR, color='r', linestyle='dashed', linewidth = 2, label= f'VaR at {confidence_interval:.0%} confidence level') \n",
    "plt.legend()\n",
    "plt.show()"
   ]
  },
  {
   "cell_type": "code",
   "execution_count": null,
   "id": "115976c9-758a-44af-b07a-5ada544c60b2",
   "metadata": {},
   "outputs": [],
   "source": []
  }
 ],
 "metadata": {
  "kernelspec": {
   "display_name": "Python 3 (ipykernel)",
   "language": "python",
   "name": "python3"
  },
  "language_info": {
   "codemirror_mode": {
    "name": "ipython",
    "version": 3
   },
   "file_extension": ".py",
   "mimetype": "text/x-python",
   "name": "python",
   "nbconvert_exporter": "python",
   "pygments_lexer": "ipython3",
   "version": "3.12.4"
  }
 },
 "nbformat": 4,
 "nbformat_minor": 5
}
