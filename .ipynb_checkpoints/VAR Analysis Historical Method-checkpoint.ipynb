{
 "cells": [
  {
   "cell_type": "markdown",
   "id": "09c7e811-bcc2-47df-9674-4d57f393f82b",
   "metadata": {},
   "source": [
    "# VaR Analysis Historical Method"
   ]
  },
  {
   "cell_type": "markdown",
   "id": "76e10e8e-53cd-4a18-ab34-df4b3ba88f70",
   "metadata": {},
   "source": [
    "This is a Value at Risk analysis Historical Data Method to determine the possible amount of money you could lose if you invest in the companies below"
   ]
  },
  {
   "cell_type": "code",
   "execution_count": 31,
   "id": "e0893845-3ac2-4834-a227-83ba1303b18b",
   "metadata": {},
   "outputs": [],
   "source": [
    "# importing necessary libraries\n",
    "\n",
    "import numpy as np\n",
    "import pandas as pd\n",
    "import datetime as dt\n",
    "import matplotlib.pyplot as plt\n",
    "from scipy.stats import norm"
   ]
  },
  {
   "cell_type": "markdown",
   "id": "1e2d4e18-04a3-42d3-a3e4-4c76913d5705",
   "metadata": {},
   "source": [
    "## We will be using GSMI, EMI, and FB as example"
   ]
  },
  {
   "cell_type": "code",
   "execution_count": 33,
   "id": "2a7d6244-315f-4782-9980-c21b3c17d1a0",
   "metadata": {},
   "outputs": [
    {
     "data": {
      "text/html": [
       "<div>\n",
       "<style scoped>\n",
       "    .dataframe tbody tr th:only-of-type {\n",
       "        vertical-align: middle;\n",
       "    }\n",
       "\n",
       "    .dataframe tbody tr th {\n",
       "        vertical-align: top;\n",
       "    }\n",
       "\n",
       "    .dataframe thead th {\n",
       "        text-align: right;\n",
       "    }\n",
       "</style>\n",
       "<table border=\"1\" class=\"dataframe\">\n",
       "  <thead>\n",
       "    <tr style=\"text-align: right;\">\n",
       "      <th></th>\n",
       "      <th>GSMI</th>\n",
       "      <th>EMI</th>\n",
       "      <th>FB</th>\n",
       "    </tr>\n",
       "    <tr>\n",
       "      <th>Date</th>\n",
       "      <th></th>\n",
       "      <th></th>\n",
       "      <th></th>\n",
       "    </tr>\n",
       "  </thead>\n",
       "  <tbody>\n",
       "    <tr>\n",
       "      <th>2019-10-04</th>\n",
       "      <td>47.95</td>\n",
       "      <td>7.04</td>\n",
       "      <td>90.00</td>\n",
       "    </tr>\n",
       "    <tr>\n",
       "      <th>2019-10-07</th>\n",
       "      <td>47.00</td>\n",
       "      <td>7.00</td>\n",
       "      <td>90.70</td>\n",
       "    </tr>\n",
       "    <tr>\n",
       "      <th>2019-10-08</th>\n",
       "      <td>46.80</td>\n",
       "      <td>7.00</td>\n",
       "      <td>89.25</td>\n",
       "    </tr>\n",
       "    <tr>\n",
       "      <th>2019-10-09</th>\n",
       "      <td>46.05</td>\n",
       "      <td>7.00</td>\n",
       "      <td>90.00</td>\n",
       "    </tr>\n",
       "    <tr>\n",
       "      <th>2019-10-10</th>\n",
       "      <td>46.50</td>\n",
       "      <td>7.00</td>\n",
       "      <td>90.00</td>\n",
       "    </tr>\n",
       "  </tbody>\n",
       "</table>\n",
       "</div>"
      ],
      "text/plain": [
       "             GSMI   EMI     FB\n",
       "Date                          \n",
       "2019-10-04  47.95  7.04  90.00\n",
       "2019-10-07  47.00  7.00  90.70\n",
       "2019-10-08  46.80  7.00  89.25\n",
       "2019-10-09  46.05  7.00  90.00\n",
       "2019-10-10  46.50  7.00  90.00"
      ]
     },
     "execution_count": 33,
     "metadata": {},
     "output_type": "execute_result"
    }
   ],
   "source": [
    "# Importing excel file\n",
    "df = pd.read_excel(\"PH stocks.xlsx\", index_col=False)\n",
    "df = df.set_index(\"Date\")\n",
    "df = df.dropna()\n",
    "df.head()"
   ]
  },
  {
   "cell_type": "code",
   "execution_count": 34,
   "id": "3e2ce05e-5ba7-48de-81fd-405b3fb0f865",
   "metadata": {
    "scrolled": true
   },
   "outputs": [
    {
     "data": {
      "text/html": [
       "<div>\n",
       "<style scoped>\n",
       "    .dataframe tbody tr th:only-of-type {\n",
       "        vertical-align: middle;\n",
       "    }\n",
       "\n",
       "    .dataframe tbody tr th {\n",
       "        vertical-align: top;\n",
       "    }\n",
       "\n",
       "    .dataframe thead th {\n",
       "        text-align: right;\n",
       "    }\n",
       "</style>\n",
       "<table border=\"1\" class=\"dataframe\">\n",
       "  <thead>\n",
       "    <tr style=\"text-align: right;\">\n",
       "      <th></th>\n",
       "      <th>GSMI</th>\n",
       "      <th>EMI</th>\n",
       "      <th>FB</th>\n",
       "    </tr>\n",
       "    <tr>\n",
       "      <th>Date</th>\n",
       "      <th></th>\n",
       "      <th></th>\n",
       "      <th></th>\n",
       "    </tr>\n",
       "  </thead>\n",
       "  <tbody>\n",
       "    <tr>\n",
       "      <th>2019-10-07</th>\n",
       "      <td>-0.020011</td>\n",
       "      <td>-0.005698</td>\n",
       "      <td>0.007748</td>\n",
       "    </tr>\n",
       "    <tr>\n",
       "      <th>2019-10-08</th>\n",
       "      <td>-0.004264</td>\n",
       "      <td>0.000000</td>\n",
       "      <td>-0.016116</td>\n",
       "    </tr>\n",
       "    <tr>\n",
       "      <th>2019-10-09</th>\n",
       "      <td>-0.016155</td>\n",
       "      <td>0.000000</td>\n",
       "      <td>0.008368</td>\n",
       "    </tr>\n",
       "    <tr>\n",
       "      <th>2019-10-10</th>\n",
       "      <td>0.009725</td>\n",
       "      <td>0.000000</td>\n",
       "      <td>0.000000</td>\n",
       "    </tr>\n",
       "    <tr>\n",
       "      <th>2019-10-11</th>\n",
       "      <td>0.010695</td>\n",
       "      <td>0.000000</td>\n",
       "      <td>-0.000556</td>\n",
       "    </tr>\n",
       "    <tr>\n",
       "      <th>...</th>\n",
       "      <td>...</td>\n",
       "      <td>...</td>\n",
       "      <td>...</td>\n",
       "    </tr>\n",
       "    <tr>\n",
       "      <th>2024-09-27</th>\n",
       "      <td>0.011429</td>\n",
       "      <td>0.003193</td>\n",
       "      <td>-0.026567</td>\n",
       "    </tr>\n",
       "    <tr>\n",
       "      <th>2024-09-30</th>\n",
       "      <td>0.003026</td>\n",
       "      <td>-0.003193</td>\n",
       "      <td>0.036814</td>\n",
       "    </tr>\n",
       "    <tr>\n",
       "      <th>2024-10-01</th>\n",
       "      <td>0.002263</td>\n",
       "      <td>0.000000</td>\n",
       "      <td>0.005545</td>\n",
       "    </tr>\n",
       "    <tr>\n",
       "      <th>2024-10-02</th>\n",
       "      <td>0.002258</td>\n",
       "      <td>-0.001067</td>\n",
       "      <td>-0.019545</td>\n",
       "    </tr>\n",
       "    <tr>\n",
       "      <th>2024-10-03</th>\n",
       "      <td>-0.000752</td>\n",
       "      <td>0.000000</td>\n",
       "      <td>-0.010392</td>\n",
       "    </tr>\n",
       "  </tbody>\n",
       "</table>\n",
       "<p>1216 rows × 3 columns</p>\n",
       "</div>"
      ],
      "text/plain": [
       "                GSMI       EMI        FB\n",
       "Date                                    \n",
       "2019-10-07 -0.020011 -0.005698  0.007748\n",
       "2019-10-08 -0.004264  0.000000 -0.016116\n",
       "2019-10-09 -0.016155  0.000000  0.008368\n",
       "2019-10-10  0.009725  0.000000  0.000000\n",
       "2019-10-11  0.010695  0.000000 -0.000556\n",
       "...              ...       ...       ...\n",
       "2024-09-27  0.011429  0.003193 -0.026567\n",
       "2024-09-30  0.003026 -0.003193  0.036814\n",
       "2024-10-01  0.002263  0.000000  0.005545\n",
       "2024-10-02  0.002258 -0.001067 -0.019545\n",
       "2024-10-03 -0.000752  0.000000 -0.010392\n",
       "\n",
       "[1216 rows x 3 columns]"
      ]
     },
     "execution_count": 34,
     "metadata": {},
     "output_type": "execute_result"
    }
   ],
   "source": [
    "# Calculating log returns\n",
    "\n",
    "log_returns = np.log(df/df.shift(1))\n",
    "log_returns = log_returns.dropna()\n",
    "log_returns"
   ]
  },
  {
   "cell_type": "code",
   "execution_count": 35,
   "id": "fc92bb85-ddfc-40bc-9948-86b2df532e98",
   "metadata": {},
   "outputs": [
    {
     "data": {
      "text/plain": [
       "array([0.33333333, 0.33333333, 0.33333333])"
      ]
     },
     "execution_count": 35,
     "metadata": {},
     "output_type": "execute_result"
    }
   ],
   "source": [
    "# Creating an equally weighted portfolio\n",
    "\n",
    "stocks = df.columns\n",
    "stocks = list(stocks)\n",
    "\n",
    "portfolio_value = 1000000\n",
    "weights = np.array([1/len(stocks)]*len(stocks))\n",
    "weights"
   ]
  },
  {
   "cell_type": "code",
   "execution_count": 36,
   "id": "c61be085-9f60-4040-822d-ddba0e2ea702",
   "metadata": {},
   "outputs": [
    {
     "data": {
      "text/plain": [
       "Date\n",
       "2019-10-07   -0.005987\n",
       "2019-10-08   -0.006793\n",
       "2019-10-09   -0.002596\n",
       "2019-10-10    0.003242\n",
       "2019-10-11    0.003380\n",
       "                ...   \n",
       "2024-09-27   -0.003982\n",
       "2024-09-30    0.012216\n",
       "2024-10-01    0.002603\n",
       "2024-10-02   -0.006118\n",
       "2024-10-03   -0.003715\n",
       "Length: 1216, dtype: float64"
      ]
     },
     "execution_count": 36,
     "metadata": {},
     "output_type": "execute_result"
    }
   ],
   "source": [
    "# Calculating the historical portfolio returns\n",
    "\n",
    "hreturns = (log_returns * weights).sum(axis = 1)\n",
    "hreturns"
   ]
  },
  {
   "cell_type": "code",
   "execution_count": 49,
   "id": "5b89c405-d8b4-4e23-9e67-66e24f1d9565",
   "metadata": {},
   "outputs": [
    {
     "data": {
      "text/plain": [
       "Date\n",
       "2024-09-27    0.000842\n",
       "2024-09-30    0.018693\n",
       "2024-10-01    0.006604\n",
       "2024-10-02   -0.000443\n",
       "2024-10-03    0.001004\n",
       "dtype: float64"
      ]
     },
     "execution_count": 49,
     "metadata": {},
     "output_type": "execute_result"
    }
   ],
   "source": [
    "# X days historical portfolio returns\n",
    "\n",
    "days = 5\n",
    "xdays = hreturns.rolling(window=days).sum()\n",
    "xdays = xdays.dropna()\n",
    "\n",
    "xdays.tail()"
   ]
  },
  {
   "cell_type": "code",
   "execution_count": 38,
   "id": "615718b6-802c-41f6-8c6a-76e33c5dfb4f",
   "metadata": {},
   "outputs": [
    {
     "data": {
      "text/plain": [
       "35323.46121092132"
      ]
     },
     "execution_count": 38,
     "metadata": {},
     "output_type": "execute_result"
    }
   ],
   "source": [
    "# Calculating VAR\n",
    "\n",
    "confidence_interval = 0.95\n",
    "\n",
    "VaR = -np.percentile(xdays, 100 - (confidence_interval * 100)) * portfolio_value\n",
    "\n",
    "VaR"
   ]
  },
  {
   "cell_type": "code",
   "execution_count": 39,
   "id": "bfabc08a-64a3-43a6-bab1-00379cfaf3eb",
   "metadata": {},
   "outputs": [
    {
     "data": {
      "image/png": "[encoded data removed]",
      "text/plain": [
       "<Figure size 640x480 with 1 Axes>"
      ]
     },
     "metadata": {},
     "output_type": "display_data"
    }
   ],
   "source": [
    "# Plotting \n",
    "\n",
    "hreturns_dollar = hreturns * portfolio_value\n",
    "\n",
    "plt.hist(hreturns_dollar, bins=50, density= True)\n",
    "plt.xlabel(f'{days}-Day Portfolio Return (Dollar Value)')\n",
    "plt.ylabel('Frequency')\n",
    "plt.title(f\"Distribution of Portfolio {days}-Day Returns (Dollar Value)\")\n",
    "plt.axvline(-VaR, color='r', linestyle='dashed', linewidth = 2, label= f'VaR at {confidence_interval:.0%} confidence level') \n",
    "plt.legend()\n",
    "plt.show()"
   ]
  },
  {
   "cell_type": "code",
   "execution_count": null,
   "id": "115976c9-758a-44af-b07a-5ada544c60b2",
   "metadata": {},
   "outputs": [],
   "source": []
  }
 ],
 "metadata": {
  "kernelspec": {
   "display_name": "Python 3 (ipykernel)",
   "language": "python",
   "name": "python3"
  },
  "language_info": {
   "codemirror_mode": {
    "name": "ipython",
    "version": 3
   },
   "file_extension": ".py",
   "mimetype": "text/x-python",
   "name": "python",
   "nbconvert_exporter": "python",
   "pygments_lexer": "ipython3",
   "version": "3.12.4"
  }
 },
 "nbformat": 4,
 "nbformat_minor": 5
}
